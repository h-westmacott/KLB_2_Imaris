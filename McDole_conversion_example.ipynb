{
 "cells": [
  {
   "cell_type": "markdown",
   "id": "314a05fb",
   "metadata": {},
   "source": [
    "# Generic Converter"
   ]
  },
  {
   "cell_type": "code",
   "execution_count": 1,
   "id": "e188d97e",
   "metadata": {},
   "outputs": [],
   "source": [
    "config = {\"path_to_T0_klb\": \"/path/to/T0_klb\", # path to klb file at timepoint 0\n",
    "          \"output_filename\": \"converted_klb.ims\", # output ims filename\n",
    "          \"path_to_all_frames\": \"/path/to/all_frames_directory\", # path to directory containing all time frame folders\n",
    "          \"num_channels\": 1, # number of channels in the data\n",
    "          \"block_size\": [1, 1, 64, 256, 256], # [t, c, z, y, x], if None, block size is inferred from data\n",
    "          }"
   ]
  },
  {
   "cell_type": "code",
   "execution_count": 2,
   "id": "f3dff253",
   "metadata": {},
   "outputs": [],
   "source": [
    "config = {\"path_to_T0_klb\": r\"X:\\mcdole\\KM_22-11-17\\Mmu_E1_AFPeGFP_mTmG_01_20221117_142750.corrected\\Results\\MultiFused\\Mmu_E1_AFPeGFP_mTmG.TM000000_multiFused_blending\\SPM00_TM000000_CM00_CM01_CHN00.fusedStack.klb\", # path to klb file at timepoint 0\n",
    "          \"output_filename\": r\"X:\\Exchange\\Henry\\klb_2_ims\\22-11-17_covert_test_function.ims\", # output ims filename\n",
    "          \"path_to_all_frames\": r\"X:\\mcdole\\KM_22-11-17\\Mmu_E1_AFPeGFP_mTmG_01_20221117_142750.corrected\\Results\\MultiFused\", # path to directory containing all time frame folders\n",
    "          \"num_channels\": 2, # number of channels in the data\n",
    "        #   \"block_size\": None, # [t, c, z, y, x], if None, block size is inferred from data\n",
    "          \"block_size\": [None, None, None, None, None], # [t, c, z, y, x], if None, block size is inferred from data\n",
    "          }"
   ]
  },
  {
   "cell_type": "code",
   "execution_count": 3,
   "id": "7f7dba45",
   "metadata": {},
   "outputs": [],
   "source": [
    "from klb_2_Imaris import mcdole_klb_to_ims"
   ]
  },
  {
   "cell_type": "code",
   "execution_count": 4,
   "id": "a6e2310b",
   "metadata": {},
   "outputs": [
    {
     "name": "stdout",
     "output_type": "stream",
     "text": [
      "Using block size: t=1, c=1, z=475, y=2304, x=2304\n"
     ]
    },
    {
     "name": "stderr",
     "output_type": "stream",
     "text": [
      "  5%|▌         | 7/139 [10:08<3:08:07, 85.51s/it]"
     ]
    },
    {
     "name": "stdout",
     "output_type": "stream",
     "text": [
      "User Progress 5, Bytes written: 19176759368\n"
     ]
    },
    {
     "name": "stderr",
     "output_type": "stream",
     "text": [
      "  9%|▉         | 13/139 [18:08<2:48:55, 80.44s/it]"
     ]
    },
    {
     "name": "stdout",
     "output_type": "stream",
     "text": [
      "User Progress 10, Bytes written: 38260140791\n"
     ]
    },
    {
     "name": "stderr",
     "output_type": "stream",
     "text": [
      " 14%|█▍        | 20/139 [28:02<2:49:18, 85.37s/it]"
     ]
    },
    {
     "name": "stdout",
     "output_type": "stream",
     "text": [
      "User Progress 15, Bytes written: 57185110635\n"
     ]
    },
    {
     "name": "stderr",
     "output_type": "stream",
     "text": [
      " 17%|█▋        | 24/139 [33:46<2:41:52, 84.46s/it]\n"
     ]
    },
    {
     "ename": "OSError",
     "evalue": "Could not read KLB header of file 'X:\\mcdole\\KM_22-11-17\\Mmu_E1_AFPeGFP_mTmG_01_20221117_142750.corrected\\Results\\MultiFused\\Mmu_E1_AFPeGFP_mTmG.TM000024_multiFused_blending\\SPM00_TM000024_CM00_CM01_CHN00.fusedStack.klb'. Error code 2",
     "output_type": "error",
     "traceback": [
      "\u001b[1;31m---------------------------------------------------------------------------\u001b[0m",
      "\u001b[1;31mOSError\u001b[0m                                   Traceback (most recent call last)",
      "\u001b[1;32m~\\AppData\\Local\\Temp\\ipykernel_42964\\2212353726.py\u001b[0m in \u001b[0;36m<module>\u001b[1;34m\u001b[0m\n\u001b[1;32m----> 1\u001b[1;33m \u001b[0mmcdole_klb_to_ims\u001b[0m\u001b[1;33m(\u001b[0m\u001b[0mconfig\u001b[0m\u001b[1;33m)\u001b[0m\u001b[1;33m\u001b[0m\u001b[1;33m\u001b[0m\u001b[0m\n\u001b[0m",
      "\u001b[1;32md:\\Projects\\klb_2_ims\\KLB_2_Imaris\\klb_2_Imaris.py\u001b[0m in \u001b[0;36mmcdole_klb_to_ims\u001b[1;34m(config)\u001b[0m\n\u001b[0;32m    288\u001b[0m                                                                     \u001b[0mmin\u001b[0m\u001b[1;33m(\u001b[0m\u001b[0mimage_size\u001b[0m\u001b[1;33m.\u001b[0m\u001b[0mz\u001b[0m\u001b[1;33m-\u001b[0m\u001b[1;36m1\u001b[0m\u001b[1;33m,\u001b[0m\u001b[1;33m(\u001b[0m\u001b[0mz\u001b[0m\u001b[1;33m*\u001b[0m\u001b[0mblock_size\u001b[0m\u001b[1;33m.\u001b[0m\u001b[0mz\u001b[0m\u001b[1;33m)\u001b[0m\u001b[1;33m+\u001b[0m\u001b[0mblock_size\u001b[0m\u001b[1;33m.\u001b[0m\u001b[0mz\u001b[0m\u001b[1;33m-\u001b[0m\u001b[1;36m1\u001b[0m\u001b[1;33m)\u001b[0m\u001b[1;33m,\u001b[0m\u001b[1;33m\u001b[0m\u001b[1;33m\u001b[0m\u001b[0m\n\u001b[0;32m    289\u001b[0m                                                                     \u001b[0mmin\u001b[0m\u001b[1;33m(\u001b[0m\u001b[0mimage_size\u001b[0m\u001b[1;33m.\u001b[0m\u001b[0my\u001b[0m\u001b[1;33m-\u001b[0m\u001b[1;36m1\u001b[0m\u001b[1;33m,\u001b[0m\u001b[1;33m(\u001b[0m\u001b[0my\u001b[0m\u001b[1;33m*\u001b[0m\u001b[0mblock_size\u001b[0m\u001b[1;33m.\u001b[0m\u001b[0my\u001b[0m\u001b[1;33m)\u001b[0m\u001b[1;33m+\u001b[0m\u001b[0mblock_size\u001b[0m\u001b[1;33m.\u001b[0m\u001b[0my\u001b[0m\u001b[1;33m-\u001b[0m\u001b[1;36m1\u001b[0m\u001b[1;33m)\u001b[0m\u001b[1;33m,\u001b[0m\u001b[1;33m\u001b[0m\u001b[1;33m\u001b[0m\u001b[0m\n\u001b[1;32m--> 290\u001b[1;33m                                                                     min(image_size.x-1,(x*block_size.x)+block_size.x-1)])\n\u001b[0m\u001b[0;32m    291\u001b[0m \u001b[1;33m\u001b[0m\u001b[0m\n\u001b[0;32m    292\u001b[0m                             \u001b[1;32mif\u001b[0m \u001b[1;33m(\u001b[0m\u001b[0mblock_img\u001b[0m\u001b[1;33m.\u001b[0m\u001b[0mshape\u001b[0m\u001b[1;33m[\u001b[0m\u001b[1;36m0\u001b[0m\u001b[1;33m]\u001b[0m\u001b[1;33m<\u001b[0m\u001b[0mblock_size\u001b[0m\u001b[1;33m.\u001b[0m\u001b[0mt\u001b[0m\u001b[1;33m)\u001b[0m \u001b[1;32mor\u001b[0m \u001b[1;33m(\u001b[0m\u001b[0mblock_img\u001b[0m\u001b[1;33m.\u001b[0m\u001b[0mshape\u001b[0m\u001b[1;33m[\u001b[0m\u001b[1;36m1\u001b[0m\u001b[1;33m]\u001b[0m\u001b[1;33m<\u001b[0m\u001b[0mblock_size\u001b[0m\u001b[1;33m.\u001b[0m\u001b[0mc\u001b[0m\u001b[1;33m)\u001b[0m \u001b[1;32mor\u001b[0m \u001b[1;33m(\u001b[0m\u001b[0mblock_img\u001b[0m\u001b[1;33m.\u001b[0m\u001b[0mshape\u001b[0m\u001b[1;33m[\u001b[0m\u001b[1;36m2\u001b[0m\u001b[1;33m]\u001b[0m\u001b[1;33m<\u001b[0m\u001b[0mblock_size\u001b[0m\u001b[1;33m.\u001b[0m\u001b[0mz\u001b[0m\u001b[1;33m)\u001b[0m \u001b[1;32mor\u001b[0m \u001b[1;33m(\u001b[0m\u001b[0mblock_img\u001b[0m\u001b[1;33m.\u001b[0m\u001b[0mshape\u001b[0m\u001b[1;33m[\u001b[0m\u001b[1;36m3\u001b[0m\u001b[1;33m]\u001b[0m\u001b[1;33m<\u001b[0m\u001b[0mblock_size\u001b[0m\u001b[1;33m.\u001b[0m\u001b[0my\u001b[0m\u001b[1;33m)\u001b[0m \u001b[1;32mor\u001b[0m \u001b[1;33m(\u001b[0m\u001b[0mblock_img\u001b[0m\u001b[1;33m.\u001b[0m\u001b[0mshape\u001b[0m\u001b[1;33m[\u001b[0m\u001b[1;36m4\u001b[0m\u001b[1;33m]\u001b[0m\u001b[1;33m<\u001b[0m\u001b[0mblock_size\u001b[0m\u001b[1;33m.\u001b[0m\u001b[0mx\u001b[0m\u001b[1;33m)\u001b[0m\u001b[1;33m:\u001b[0m\u001b[1;33m\u001b[0m\u001b[1;33m\u001b[0m\u001b[0m\n",
      "\u001b[1;32msrc\\pyklb.pyx\u001b[0m in \u001b[0;36mpyklb.readroi\u001b[1;34m()\u001b[0m\n",
      "\u001b[1;32msrc\\pyklb.pyx\u001b[0m in \u001b[0;36mpyklb.readheader\u001b[1;34m()\u001b[0m\n",
      "\u001b[1;31mOSError\u001b[0m: Could not read KLB header of file 'X:\\mcdole\\KM_22-11-17\\Mmu_E1_AFPeGFP_mTmG_01_20221117_142750.corrected\\Results\\MultiFused\\Mmu_E1_AFPeGFP_mTmG.TM000024_multiFused_blending\\SPM00_TM000024_CM00_CM01_CHN00.fusedStack.klb'. Error code 2"
     ]
    }
   ],
   "source": [
    "mcdole_klb_to_ims(config)"
   ]
  },
  {
   "cell_type": "code",
   "execution_count": null,
   "id": "c477dbe4",
   "metadata": {},
   "outputs": [],
   "source": []
  }
 ],
 "metadata": {
  "kernelspec": {
   "display_name": "klb_2_ims",
   "language": "python",
   "name": "python3"
  },
  "language_info": {
   "codemirror_mode": {
    "name": "ipython",
    "version": 3
   },
   "file_extension": ".py",
   "mimetype": "text/x-python",
   "name": "python",
   "nbconvert_exporter": "python",
   "pygments_lexer": "ipython3",
   "version": "3.7.12"
  }
 },
 "nbformat": 4,
 "nbformat_minor": 5
}
